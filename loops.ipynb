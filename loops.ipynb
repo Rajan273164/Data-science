{
 "cells": [
  {
   "cell_type": "code",
   "execution_count": 1,
   "metadata": {},
   "outputs": [
    {
     "name": "stdout",
     "output_type": "stream",
     "text": [
      "45689"
     ]
    }
   ],
   "source": [
    "x = [4,5,6,8,9]\n",
    "for item in x:\n",
    "    print(item, end='')"
   ]
  },
  {
   "cell_type": "code",
   "execution_count": 6,
   "metadata": {},
   "outputs": [
    {
     "name": "stdout",
     "output_type": "stream",
     "text": [
      "total apps = 15\n"
     ]
    }
   ],
   "source": [
    "apps =['camera','youtube','instagram','hotstar','facebook','seeting','chrome','snapsheed','clock','contact','calculator','snaptube','winzo','alexa','whatapps']\n",
    "print(f'total apps = {len(apps)}')"
   ]
  },
  {
   "cell_type": "code",
   "execution_count": 11,
   "metadata": {},
   "outputs": [
    {
     "name": "stdout",
     "output_type": "stream",
     "text": [
      "camera               ||               6\n",
      "youtube              ||               7\n",
      "instagram            ||               9\n",
      "hotstar              ||               7\n",
      "facebook             ||               8\n",
      "seeting              ||               7\n",
      "chrome               ||               6\n",
      "snapsheed            ||               9\n",
      "clock                ||               5\n",
      "contact              ||               7\n",
      "calculator           ||              10\n",
      "snaptube             ||               8\n",
      "winzo                ||               5\n",
      "alexa                ||               5\n",
      "whatapps             ||               8\n"
     ]
    }
   ],
   "source": [
    "for app in apps:\n",
    "    print(f\"{app:20} || {len(app):15}\")"
   ]
  },
  {
   "cell_type": "code",
   "execution_count": 12,
   "metadata": {},
   "outputs": [
    {
     "name": "stdout",
     "output_type": "stream",
     "text": [
      "instagram\n",
      "seeting\n",
      "winzo\n"
     ]
    }
   ],
   "source": [
    "for app in apps :\n",
    "    if \"in\" in app:\n",
    "        print(app)"
   ]
  },
  {
   "cell_type": "code",
   "execution_count": 14,
   "metadata": {},
   "outputs": [
    {
     "name": "stdout",
     "output_type": "stream",
     "text": [
      "alexa\n"
     ]
    }
   ],
   "source": [
    "for app in apps :\n",
    "    if app.startswith(\"a\"):\n",
    "        print(app)\n"
   ]
  },
  {
   "cell_type": "code",
   "execution_count": 17,
   "metadata": {},
   "outputs": [
    {
     "name": "stdout",
     "output_type": "stream",
     "text": [
      "contact\n"
     ]
    }
   ],
   "source": [
    "for app in apps:\n",
    "    if app.endswith(\"t\"):\n",
    "        print(app)"
   ]
  },
  {
   "cell_type": "code",
   "execution_count": 18,
   "metadata": {},
   "outputs": [
    {
     "name": "stdout",
     "output_type": "stream",
     "text": [
      "45\n",
      "49\n",
      "25\n",
      "61\n"
     ]
    }
   ],
   "source": [
    "data =[45,49,25,61,0,]\n",
    "for i in data:\n",
    "    if i == 0:\n",
    "        continue\n",
    "    print(i)"
   ]
  },
  {
   "cell_type": "code",
   "execution_count": 20,
   "metadata": {},
   "outputs": [
    {
     "name": "stdout",
     "output_type": "stream",
     "text": [
      "4\n",
      "5\n",
      "25\n"
     ]
    }
   ],
   "source": [
    "data = [4,5,25,0,0,48,69,35,]\n",
    "for i in data:\n",
    "    if i ==0:\n",
    "        break\n",
    "    print(i)"
   ]
  },
  {
   "cell_type": "code",
   "execution_count": 21,
   "metadata": {},
   "outputs": [
    {
     "name": "stdout",
     "output_type": "stream",
     "text": [
      "camera\n",
      "youtube\n",
      "instagram\n",
      "hotstar\n",
      "facebook\n",
      "seeting\n",
      "chrome\n",
      "snapsheed\n",
      "clock\n",
      "contact\n",
      "calculator\n",
      "snaptube\n",
      "winzo\n",
      "alexa\n",
      "whatapps\n"
     ]
    }
   ],
   "source": [
    "for app in apps:\n",
    "    print(app)"
   ]
  },
  {
   "cell_type": "code",
   "execution_count": 22,
   "metadata": {},
   "outputs": [
    {
     "name": "stdout",
     "output_type": "stream",
     "text": [
      "(0, 'camera')\n",
      "(1, 'youtube')\n",
      "(2, 'instagram')\n",
      "(3, 'hotstar')\n",
      "(4, 'facebook')\n",
      "(5, 'seeting')\n",
      "(6, 'chrome')\n",
      "(7, 'snapsheed')\n",
      "(8, 'clock')\n",
      "(9, 'contact')\n",
      "(10, 'calculator')\n",
      "(11, 'snaptube')\n",
      "(12, 'winzo')\n",
      "(13, 'alexa')\n",
      "(14, 'whatapps')\n"
     ]
    }
   ],
   "source": [
    "for app in enumerate(apps):\n",
    "    print(app)"
   ]
  },
  {
   "cell_type": "code",
   "execution_count": 24,
   "metadata": {},
   "outputs": [
    {
     "name": "stdout",
     "output_type": "stream",
     "text": [
      "0 camera\n",
      "1 youtube\n",
      "2 instagram\n",
      "3 hotstar\n",
      "4 facebook\n",
      "5 seeting\n",
      "6 chrome\n",
      "7 snapsheed\n",
      "8 clock\n",
      "9 contact\n",
      "10 calculator\n"
     ]
    }
   ],
   "source": [
    "for i, app in enumerate(apps):\n",
    "    if i > 10:\n",
    "        break\n",
    "    print(i,app)"
   ]
  },
  {
   "cell_type": "code",
   "execution_count": null,
   "metadata": {},
   "outputs": [],
   "source": []
  }
 ],
 "metadata": {
  "kernelspec": {
   "display_name": "base",
   "language": "python",
   "name": "python3"
  },
  "language_info": {
   "codemirror_mode": {
    "name": "ipython",
    "version": 3
   },
   "file_extension": ".py",
   "mimetype": "text/x-python",
   "name": "python",
   "nbconvert_exporter": "python",
   "pygments_lexer": "ipython3",
   "version": "3.10.8"
  },
  "orig_nbformat": 4,
  "vscode": {
   "interpreter": {
    "hash": "54928aae6e8cd694037f9b7057c0d5cbb6fb131a54ebc4c9e87b74f8d01753e7"
   }
  }
 },
 "nbformat": 4,
 "nbformat_minor": 2
}

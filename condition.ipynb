{
 "cells": [
  {
   "cell_type": "code",
   "execution_count": 4,
   "metadata": {},
   "outputs": [
    {
     "name": "stdout",
     "output_type": "stream",
     "text": [
      "Good Singer\n"
     ]
    }
   ],
   "source": [
    "x = input(\"Enter the number:\")\n",
    "if x.isnumeric():\n",
    "   print(\"Good Singer\")\n",
    "else:\n",
    "    print(\"Bad Singer\")"
   ]
  },
  {
   "cell_type": "code",
   "execution_count": 7,
   "metadata": {},
   "outputs": [
    {
     "name": "stdout",
     "output_type": "stream",
     "text": [
      "you have right to vote\n"
     ]
    }
   ],
   "source": [
    "age = int(input(\"enter your age:\"))\n",
    "if age >=18:\n",
    "    print(\"you have right to vote\")\n",
    "else:\n",
    "    print(f\"please wait {18 - age} year\")"
   ]
  },
  {
   "cell_type": "code",
   "execution_count": 12,
   "metadata": {},
   "outputs": [
    {
     "name": "stdout",
     "output_type": "stream",
     "text": [
      " We have 100kg  Mango  in store. \n",
      " Total costing about Rs.2000 \n"
     ]
    }
   ],
   "source": [
    "x = 100\n",
    "y = \" Mango \"\n",
    "prc = 20\n",
    "print ( f\" We have { x }kg { y } in store. \" )\n",
    "print ( f\" Total costing about Rs.{ x * prc } \" )"
   ]
  },
  {
   "cell_type": "code",
   "execution_count": 15,
   "metadata": {},
   "outputs": [
    {
     "name": "stdout",
     "output_type": "stream",
     "text": [
      " x=-100 is even number.\n"
     ]
    }
   ],
   "source": [
    "x = int ( input ( \" Enter The Number : \" ) )\n",
    "if x > 0 :\n",
    "    print ( f\"{x} Is Natural Number\")\n",
    "if x % 2 == 0 :\n",
    "    print ( f\" {x=} is even number.\")\n",
    "if x > 50 :\n",
    "    print ( f\" {x=} is grater than 50.\")"
   ]
  },
  {
   "cell_type": "code",
   "execution_count": 20,
   "metadata": {},
   "outputs": [
    {
     "name": "stdout",
     "output_type": "stream",
     "text": [
      " Tester Basic Salary is 45000.0\n"
     ]
    }
   ],
   "source": [
    "name = input(\"enter your department:\")\n",
    "if name == \"Manager\" :\n",
    "    bs1 = 50000\n",
    "    bns1 = bs1 * .1\n",
    "    hra1 = bs1 * .2\n",
    "    num1 = bs1 + bns1 + hra1\n",
    "    print ( f\" Manager Basic Salary is { num1 }\")\n",
    "if name == \"Developer\" :\n",
    "    bs2 = 40000\n",
    "    bns2 = bs2 * .2\n",
    "    hra2 = bs2 * .2\n",
    "    num2 = bs2 + bns2 + hra2\n",
    "    print ( f\" Developer Basic Salary is { num2 }\")\n",
    "if name == \"Tester\" :\n",
    "    bs3 = 30000\n",
    "    bns3 = bs3 * .3\n",
    "    hra3 = bs3 * .2\n",
    "    num3 = bs3 + bns3 + hra3\n",
    "    print ( f\" Tester Basic Salary is { num3}\")\n"
   ]
  },
  {
   "cell_type": "code",
   "execution_count": 8,
   "metadata": {},
   "outputs": [
    {
     "name": "stdout",
     "output_type": "stream",
     "text": [
      "apple are 100/kg\n"
     ]
    }
   ],
   "source": [
    "fruit = input(\"enter a fruit name:\")\n",
    "match fruit:\n",
    "    case \"apple\":\n",
    "        print(\"apple are 100/kg\")\n",
    "    case \"mango\":\n",
    "        print(\"mango are 50/kg\")\n",
    "    case \"pomogranate\":\n",
    "        print(\"khatam ho gya \")\n",
    "    case _:\n",
    "        print(f\"{fruit} not available\")\n",
    "\n",
    "\n"
   ]
  }
 ],
 "metadata": {
  "kernelspec": {
   "display_name": "base",
   "language": "python",
   "name": "python3"
  },
  "language_info": {
   "codemirror_mode": {
    "name": "ipython",
    "version": 3
   },
   "file_extension": ".py",
   "mimetype": "text/x-python",
   "name": "python",
   "nbconvert_exporter": "python",
   "pygments_lexer": "ipython3",
   "version": "3.10.8"
  },
  "orig_nbformat": 4,
  "vscode": {
   "interpreter": {
    "hash": "54928aae6e8cd694037f9b7057c0d5cbb6fb131a54ebc4c9e87b74f8d01753e7"
   }
  }
 },
 "nbformat": 4,
 "nbformat_minor": 2
}
